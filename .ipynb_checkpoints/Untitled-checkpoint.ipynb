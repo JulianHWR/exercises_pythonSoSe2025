{
 "cells": [
  {
   "cell_type": "code",
   "execution_count": 1,
   "id": "5ea82721-feb6-40a2-b6dd-b8f97b812e5d",
   "metadata": {},
   "outputs": [
    {
     "name": "stdout",
     "output_type": "stream",
     "text": [
      "90.70294784580499\n"
     ]
    }
   ],
   "source": [
    "pounds = 2.205\n",
    "kg = 200\n",
    "Print (kg)\n",
    "\n",
    "result = kg/pounds\n",
    "result\n",
    "kg"
   ]
  },
  {
   "cell_type": "code",
   "execution_count": 3,
   "id": "bc45f2fd-8162-41ff-a489-9f5e8070612f",
   "metadata": {},
   "outputs": [
    {
     "ename": "ValueError",
     "evalue": "could not convert string to float: 'Hallo'",
     "output_type": "error",
     "traceback": [
      "\u001b[1;31m---------------------------------------------------------------------------\u001b[0m",
      "\u001b[1;31mValueError\u001b[0m                                Traceback (most recent call last)",
      "Cell \u001b[1;32mIn[3], line 2\u001b[0m\n\u001b[0;32m      1\u001b[0m x \u001b[38;5;241m=\u001b[39m \u001b[38;5;124m\"\u001b[39m\u001b[38;5;124mHallo\u001b[39m\u001b[38;5;124m\"\u001b[39m\n\u001b[1;32m----> 2\u001b[0m \u001b[38;5;28mfloat\u001b[39m(x)\n",
      "\u001b[1;31mValueError\u001b[0m: could not convert string to float: 'Hallo'"
     ]
    }
   ],
   "source": [
    "x = \"Hallo\"\n",
    "float(x)\n"
   ]
  },
  {
   "cell_type": "code",
   "execution_count": 4,
   "id": "0ec75a61-c90d-4755-b058-e4782a3ca8c9",
   "metadata": {},
   "outputs": [
    {
     "data": {
      "text/plain": [
       "3.999"
      ]
     },
     "execution_count": 4,
     "metadata": {},
     "output_type": "execute_result"
    }
   ],
   "source": [
    "y = \"3.999\"\n",
    "float(y)"
   ]
  },
  {
   "cell_type": "code",
   "execution_count": 6,
   "id": "bdcb5f7e-a66f-4be6-b46d-19b09dccb426",
   "metadata": {},
   "outputs": [
    {
     "data": {
      "text/plain": [
       "3.0"
      ]
     },
     "execution_count": 6,
     "metadata": {},
     "output_type": "execute_result"
    }
   ],
   "source": [
    "z = 3\n",
    "float(z)"
   ]
  },
  {
   "cell_type": "code",
   "execution_count": 7,
   "id": "b9285343-e75c-4ba4-9dff-d2a49f4faeb3",
   "metadata": {},
   "outputs": [
    {
     "data": {
      "text/plain": [
       "3"
      ]
     },
     "execution_count": 7,
     "metadata": {},
     "output_type": "execute_result"
    }
   ],
   "source": [
    "u = 3.5\n",
    "int(u)"
   ]
  },
  {
   "cell_type": "code",
   "execution_count": 8,
   "id": "8aafaf22-c347-43a5-881b-4514a1996753",
   "metadata": {},
   "outputs": [
    {
     "data": {
      "text/plain": [
       "'3.5'"
      ]
     },
     "execution_count": 8,
     "metadata": {},
     "output_type": "execute_result"
    }
   ],
   "source": [
    "p = 3.5\n",
    "str(p)"
   ]
  },
  {
   "cell_type": "code",
   "execution_count": 9,
   "id": "a6a12f33-63b6-4182-b09c-cd37a29fc62b",
   "metadata": {},
   "outputs": [
    {
     "data": {
      "text/plain": [
       "100"
      ]
     },
     "execution_count": 9,
     "metadata": {},
     "output_type": "execute_result"
    }
   ],
   "source": [
    "(2*5)**(1+1)"
   ]
  },
  {
   "cell_type": "code",
   "execution_count": 10,
   "id": "f831c62d-b175-4f41-acdd-c6dc5892db66",
   "metadata": {},
   "outputs": [
    {
     "data": {
      "text/plain": [
       "81"
      ]
     },
     "execution_count": 10,
     "metadata": {},
     "output_type": "execute_result"
    }
   ],
   "source": [
    "3**2**2"
   ]
  },
  {
   "cell_type": "code",
   "execution_count": 11,
   "id": "448e0a17-7b72-496f-bde5-99a071dc1651",
   "metadata": {},
   "outputs": [
    {
     "data": {
      "text/plain": [
       "0.01"
      ]
     },
     "execution_count": 11,
     "metadata": {},
     "output_type": "execute_result"
    }
   ],
   "source": [
    "1/(2*5)**(1+1)"
   ]
  },
  {
   "cell_type": "code",
   "execution_count": 14,
   "id": "33638482-3fe5-4962-84dc-fef36b0f8896",
   "metadata": {},
   "outputs": [
    {
     "name": "stdout",
     "output_type": "stream",
     "text": [
      "134.39163793441222\n"
     ]
    }
   ],
   "source": [
    "p = 100\n",
    "t = 10\n",
    "i = 0.03\n",
    "A = p*(1+i)**t\n",
    "print (A)"
   ]
  },
  {
   "cell_type": "code",
   "execution_count": 16,
   "id": "7eab17e3-1e0e-4f9f-b0e2-6a1299d26ebd",
   "metadata": {},
   "outputs": [
    {
     "data": {
      "text/plain": [
       "2.7182792426663553"
      ]
     },
     "execution_count": 16,
     "metadata": {},
     "output_type": "execute_result"
    }
   ],
   "source": [
    "p = 1\n",
    "t = 1\n",
    "i = 1\n",
    "n = 60*24*365\n",
    "A = p*(1+1/n)**(t*n)\n",
    "A"
   ]
  },
  {
   "cell_type": "code",
   "execution_count": 17,
   "id": "a992a396-8db6-42f3-bb5c-7ce6edb49739",
   "metadata": {},
   "outputs": [],
   "source": [
    "from math import exp"
   ]
  },
  {
   "cell_type": "code",
   "execution_count": 18,
   "id": "d45f93b3-0379-4ef7-914e-5150e32c858d",
   "metadata": {},
   "outputs": [
    {
     "data": {
      "text/plain": [
       "2.718281828459045"
      ]
     },
     "execution_count": 18,
     "metadata": {},
     "output_type": "execute_result"
    }
   ],
   "source": [
    "exp(1)"
   ]
  },
  {
   "cell_type": "code",
   "execution_count": 19,
   "id": "c61382bb-c0d6-45e0-ba43-a5b47138c36f",
   "metadata": {},
   "outputs": [
    {
     "ename": "SyntaxError",
     "evalue": "invalid syntax (2042291906.py, line 1)",
     "output_type": "error",
     "traceback": [
      "\u001b[1;36m  Cell \u001b[1;32mIn[19], line 1\u001b[1;36m\u001b[0m\n\u001b[1;33m    from math import pi exp()\u001b[0m\n\u001b[1;37m                        ^\u001b[0m\n\u001b[1;31mSyntaxError\u001b[0m\u001b[1;31m:\u001b[0m invalid syntax\n"
     ]
    }
   ],
   "source": [
    "from math import pi exp()"
   ]
  },
  {
   "cell_type": "code",
   "execution_count": 20,
   "id": "50a9c5e7-7c48-43a7-8470-28ce2be378c9",
   "metadata": {},
   "outputs": [],
   "source": [
    "from math import pi "
   ]
  },
  {
   "cell_type": "code",
   "execution_count": 24,
   "id": "ffe4d458-9052-4212-8ea2-3d5fab5e7de0",
   "metadata": {},
   "outputs": [
    {
     "data": {
      "text/plain": [
       "3.141592653589793"
      ]
     },
     "execution_count": 24,
     "metadata": {},
     "output_type": "execute_result"
    }
   ],
   "source": [
    "r = 1\n",
    "F = pi*r**2\n",
    "F "
   ]
  },
  {
   "cell_type": "code",
   "execution_count": 27,
   "id": "5bb35c48-8e22-4df7-839e-4d11eab857b2",
   "metadata": {},
   "outputs": [
    {
     "ename": "SyntaxError",
     "evalue": "invalid syntax (2615944772.py, line 5)",
     "output_type": "error",
     "traceback": [
      "\u001b[1;36m  Cell \u001b[1;32mIn[27], line 5\u001b[1;36m\u001b[0m\n\u001b[1;33m    A =\u001b[0m\n\u001b[1;37m        ^\u001b[0m\n\u001b[1;31mSyntaxError\u001b[0m\u001b[1;31m:\u001b[0m invalid syntax\n"
     ]
    }
   ],
   "source": [
    "p = 1\n",
    "i = 1\n",
    "t = 1\n",
    "A = P*exp((i*t))\n",
    "A = "
   ]
  },
  {
   "cell_type": "code",
   "execution_count": null,
   "id": "c05e1d87-d5cc-4c02-bf01-c1e461f6605c",
   "metadata": {},
   "outputs": [],
   "source": []
  }
 ],
 "metadata": {
  "kernelspec": {
   "display_name": "Python 3 (ipykernel)",
   "language": "python",
   "name": "python3"
  },
  "language_info": {
   "codemirror_mode": {
    "name": "ipython",
    "version": 3
   },
   "file_extension": ".py",
   "mimetype": "text/x-python",
   "name": "python",
   "nbconvert_exporter": "python",
   "pygments_lexer": "ipython3",
   "version": "3.11.11"
  }
 },
 "nbformat": 4,
 "nbformat_minor": 5
}
